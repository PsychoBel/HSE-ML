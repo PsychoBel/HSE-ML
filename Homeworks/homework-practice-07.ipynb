{
 "cells": [
  {
   "cell_type": "markdown",
   "metadata": {},
   "source": [
    "# Машинное обучение, ФКН ВШЭ\n",
    "\n",
    "## Практическое задание 7. Градиентный бустинг ~~своими руками~~\n",
    "\n",
    "### Общая информация\n",
    "Дата выдачи: 04.12.2019\n",
    "\n",
    "Мягкий дедлайн: 05:59MSK 15.12.2019\n",
    "\n",
    "Жесткий дедлайн: 05:59MSK 17.12.2019\n",
    "\n",
    "### Оценивание и штрафы\n",
    "Каждая из задач имеет определенную «стоимость» (указана в скобках около задачи). Максимально допустимая оценка за работу — 15.5 баллов.\n",
    "\n",
    "Сдавать задание после указанного срока сдачи нельзя. При выставлении неполного балла за задание в связи с наличием ошибок на усмотрение проверяющего предусмотрена возможность исправить работу на указанных в ответном письме условиях.\n",
    "\n",
    "Задание выполняется самостоятельно. «Похожие» решения считаются плагиатом и все задействованные студенты (в том числе те, у кого списали) не могут получить за него больше 0 баллов (подробнее о плагиате см. на странице курса). Если вы нашли решение какого-то из заданий (или его часть) в открытом источнике, необходимо указать ссылку на этот источник в отдельном блоке в конце вашей работы (скорее всего вы будете не единственным, кто это нашел, поэтому чтобы исключить подозрение в плагиате, необходима ссылка на источник).\n",
    "\n",
    "Неэффективная реализация кода может негативно отразиться на оценке.\n",
    "\n",
    "### Формат сдачи\n",
    "Задания сдаются через систему anytask. Посылка должна содержать:\n",
    "* Ноутбук homework-practice-07-Username.ipynb\n",
    "\n",
    "Username — ваша фамилия и имя на латинице именно в таком порядке"
   ]
  },
  {
   "cell_type": "markdown",
   "metadata": {},
   "source": [
    "__Задание 1. (0.5 балла)__\n",
    "\n",
    "Мы будем использовать данные из [соревнования](https://www.kaggle.com/t/b710e05dc0bd424995ca94da5b639869). \n",
    "* Загрузите таблицу application_train.csv;\n",
    "* Запишите в Y столбец с целевой переменной (TARGET);\n",
    "* Удалите ненужные столбцы (для этого воспользуйтесь описанием);\n",
    "* Определите тип столбцов и заполните пропуски - стратегия произвольная;\n",
    "* Разбейте выборку в соотношении 70:30 с random_state=0.\n",
    "\n",
    "Так как в данных имеется значительный дисбаланс классов, в качестве метрики качества везде будем использовать площадь под precision-recall кривой (AUC-PR)."
   ]
  },
  {
   "cell_type": "code",
   "execution_count": 1,
   "metadata": {},
   "outputs": [],
   "source": [
    "import pandas as pd\n",
    "\n",
    "# from sklearn.datasets import make_classification\n",
    "from sklearn.model_selection import train_test_split"
   ]
  },
  {
   "cell_type": "code",
   "execution_count": 2,
   "metadata": {},
   "outputs": [],
   "source": [
    "data = pd.read_csv('application_train.csv', index_col=0)\n",
    "y = data.TARGET.values\n",
    "data = data.drop('TARGET', axis=1)"
   ]
  },
  {
   "cell_type": "code",
   "execution_count": 3,
   "metadata": {},
   "outputs": [],
   "source": [
    "# data.dtypes.values != 'object'\n",
    "data = data.drop(columns=data.columns[data.dtypes.values == 'object'], axis=1)"
   ]
  },
  {
   "cell_type": "code",
   "execution_count": 4,
   "metadata": {},
   "outputs": [],
   "source": [
    "data = data.fillna(data.mean())"
   ]
  },
  {
   "cell_type": "code",
   "execution_count": 5,
   "metadata": {},
   "outputs": [
    {
     "data": {
      "text/plain": [
       "CNT_CHILDREN                  0\n",
       "AMT_INCOME_TOTAL              0\n",
       "AMT_CREDIT                    0\n",
       "AMT_ANNUITY                   0\n",
       "AMT_GOODS_PRICE               0\n",
       "                             ..\n",
       "AMT_REQ_CREDIT_BUREAU_DAY     0\n",
       "AMT_REQ_CREDIT_BUREAU_WEEK    0\n",
       "AMT_REQ_CREDIT_BUREAU_MON     0\n",
       "AMT_REQ_CREDIT_BUREAU_QRT     0\n",
       "AMT_REQ_CREDIT_BUREAU_YEAR    0\n",
       "Length: 104, dtype: int64"
      ]
     },
     "execution_count": 5,
     "metadata": {},
     "output_type": "execute_result"
    }
   ],
   "source": [
    "data.isna().sum()"
   ]
  },
  {
   "cell_type": "code",
   "execution_count": 6,
   "metadata": {},
   "outputs": [],
   "source": [
    "X_train, X_test, y_train, y_test = train_test_split(data, y, test_size=0.7, random_state=0)"
   ]
  },
  {
   "cell_type": "markdown",
   "metadata": {},
   "source": [
    "__Задание 2. (1.5 балла)__\n",
    "\n",
    "Обучите реализации градиентного бустинга LightGBM и Catboost на вещественных признаках без подбора параметров. \n",
    "Почему получилась заметная разница в качестве? \n",
    "\n",
    "В этом и последующих экспериментах необходимо измерять время обучения моделей."
   ]
  },
  {
   "cell_type": "code",
   "execution_count": 7,
   "metadata": {},
   "outputs": [],
   "source": [
    "from sklearn.metrics import roc_auc_score, auc, roc_curve, precision_recall_curve\n",
    "from time import time\n",
    "from lightgbm import LGBMClassifier\n",
    "from catboost import CatBoostClassifier"
   ]
  },
  {
   "cell_type": "markdown",
   "metadata": {},
   "source": [
    "# LightGBM"
   ]
  },
  {
   "cell_type": "code",
   "execution_count": 8,
   "metadata": {},
   "outputs": [
    {
     "name": "stdout",
     "output_type": "stream",
     "text": [
      "PR-AUC: 0.2212805320009123\n",
      "Time: 2.6543989181518555 seconds\n"
     ]
    }
   ],
   "source": [
    "start_time = time()\n",
    "clf = LGBMClassifier().fit(X_train, y_train)\n",
    "precision, recall, thresholds = precision_recall_curve(y_test, clf.predict_proba(X_test)[:, 1])\n",
    "end_time = time()\n",
    "print(\"PR-AUC:\", auc(recall, precision))\n",
    "print(\"Time:\", end_time - start_time, \"seconds\")"
   ]
  },
  {
   "cell_type": "markdown",
   "metadata": {},
   "source": [
    "# CatBoost"
   ]
  },
  {
   "cell_type": "code",
   "execution_count": 9,
   "metadata": {},
   "outputs": [
    {
     "name": "stdout",
     "output_type": "stream",
     "text": [
      "Learning rate set to 0.054497\n",
      "0:\tlearn: 0.6367119\ttotal: 90.2ms\tremaining: 1m 30s\n",
      "200:\tlearn: 0.2411002\ttotal: 5.05s\tremaining: 20.1s\n",
      "400:\tlearn: 0.2297630\ttotal: 10.9s\tremaining: 16.3s\n",
      "600:\tlearn: 0.2203795\ttotal: 17.1s\tremaining: 11.3s\n",
      "800:\tlearn: 0.2118536\ttotal: 21.8s\tremaining: 5.42s\n",
      "999:\tlearn: 0.2042400\ttotal: 26.2s\tremaining: 0us\n",
      "PR-AUC: 0.22415000602859464\n",
      "Time: 26.705607175827026 seconds\n"
     ]
    }
   ],
   "source": [
    "start_time = time()\n",
    "clf = CatBoostClassifier().fit(X_train, y_train, verbose=200)\n",
    "precision, recall, thresholds = precision_recall_curve(y_test, clf.predict_proba(X_test)[:, 1])\n",
    "end_time = time()\n",
    "print(\"PR-AUC:\", auc(recall, precision))\n",
    "print(\"Time:\", end_time - start_time, \"seconds\")"
   ]
  },
  {
   "cell_type": "markdown",
   "metadata": {},
   "source": [
    "__Задание 3. (2 балла)__\n",
    "\n",
    "Подберите оптимальные с точки зрения метрики качества параметры алгоритмов, изменяя:\n",
    "\n",
    "* глубину деревьев;\n",
    "* количество деревьев;\n",
    "* темп обучения;\n",
    "* оптимизируемый функционал.\n",
    "\n",
    "Масштаб значений предлагается посмотреть в семинаре про библиотеки.\n",
    "\n",
    "Проанализируйте соотношения глубины и количества деревьев в зависимости от алгоритма. "
   ]
  },
  {
   "cell_type": "markdown",
   "metadata": {},
   "source": [
    "# Cat boost"
   ]
  },
  {
   "cell_type": "code",
   "execution_count": 12,
   "metadata": {},
   "outputs": [],
   "source": [
    "from tqdm import tqdm\n",
    "import matplotlib.pyplot as plt\n",
    "import numpy as np"
   ]
  },
  {
   "cell_type": "code",
   "execution_count": 13,
   "metadata": {},
   "outputs": [
    {
     "name": "stderr",
     "output_type": "stream",
     "text": [
      "100%|██████████| 8/8 [00:38<00:00,  4.76s/it]\n"
     ]
    }
   ],
   "source": [
    "n_trees = [1, 5, 10, 100, 200, 300, 400, 500]\n",
    "quals_train = []\n",
    "quals_test = []\n",
    "for n in tqdm(n_trees):\n",
    "    clf = CatBoostClassifier(n_estimators=n, logging_level='Silent')\n",
    "    clf.fit(X_train, y_train)\n",
    "    precision, recall, thresholds = precision_recall_curve(y_train, clf.predict_proba(X_train)[:, 1])\n",
    "    q_train = auc(recall, precision)\n",
    "    precision, recall, thresholds = precision_recall_curve(y_test, clf.predict_proba(X_test)[:, 1])\n",
    "    q_test = auc(recall, precision)\n",
    "    quals_train.append(q_train)\n",
    "    quals_test.append(q_test)"
   ]
  },
  {
   "cell_type": "code",
   "execution_count": 14,
   "metadata": {},
   "outputs": [
    {
     "data": {
      "image/png": "[encoded data removed]",
      "text/plain": [
       "<Figure size 576x360 with 1 Axes>"
      ]
     },
     "metadata": {
      "needs_background": "light"
     },
     "output_type": "display_data"
    }
   ],
   "source": [
    "plt.figure(figsize=(8, 5))\n",
    "plt.plot(n_trees, quals_train, marker='.', label='train')\n",
    "plt.plot(n_trees, quals_test, marker='.', label='test')\n",
    "plt.xlabel('Number of trees')\n",
    "plt.ylabel('AUC-PR')\n",
    "plt.legend()\n",
    "\n",
    "plt.show()"
   ]
  },
  {
   "cell_type": "code",
   "execution_count": 15,
   "metadata": {},
   "outputs": [],
   "source": [
    "best_found_am_trees = n_trees[np.argmax(quals_test)]"
   ]
  },
  {
   "cell_type": "code",
   "execution_count": 16,
   "metadata": {},
   "outputs": [
    {
     "name": "stderr",
     "output_type": "stream",
     "text": [
      "100%|██████████| 7/7 [12:21<00:00, 105.90s/it]\n"
     ]
    }
   ],
   "source": [
    "depth = list(range(1, 14, 2))\n",
    "n_trees = best_found_am_trees\n",
    "quals_train = []\n",
    "quals_test = []\n",
    "for d in tqdm(depth):\n",
    "    clf = CatBoostClassifier(n_estimators=n_trees, max_depth=d, logging_level=\"Silent\")\n",
    "    clf.fit(X_train, y_train)\n",
    "    precision, recall, thresholds = precision_recall_curve(y_train, clf.predict_proba(X_train)[:, 1])\n",
    "    q_train = auc(recall, precision)\n",
    "    precision, recall, thresholds = precision_recall_curve(y_test, clf.predict_proba(X_test)[:, 1])\n",
    "    q_test = auc(recall, precision)\n",
    "    quals_train.append(q_train)\n",
    "    quals_test.append(q_test)"
   ]
  },
  {
   "cell_type": "code",
   "execution_count": 17,
   "metadata": {},
   "outputs": [
    {
     "data": {
      "image/png": "[encoded data removed]",
      "text/plain": [
       "<Figure size 576x360 with 1 Axes>"
      ]
     },
     "metadata": {
      "needs_background": "light"
     },
     "output_type": "display_data"
    }
   ],
   "source": [
    "plt.figure(figsize=(8, 5))\n",
    "plt.plot(depth, quals_train, marker='.', label='train')\n",
    "plt.plot(depth, quals_test, marker='.', label='test')\n",
    "plt.xlabel('Depth of trees')\n",
    "plt.ylabel('AUC-PR')\n",
    "plt.legend()\n",
    "\n",
    "plt.show()"
   ]
  },
  {
   "cell_type": "code",
   "execution_count": 18,
   "metadata": {},
   "outputs": [],
   "source": [
    "best_found_depth = depth[np.argmax(quals_test)]"
   ]
  },
  {
   "cell_type": "markdown",
   "metadata": {},
   "source": [
    "# LightGBM"
   ]
  },
  {
   "cell_type": "code",
   "execution_count": 19,
   "metadata": {},
   "outputs": [
    {
     "name": "stderr",
     "output_type": "stream",
     "text": [
      "100%|██████████| 10/10 [00:47<00:00,  4.73s/it]\n"
     ]
    }
   ],
   "source": [
    "n_trees = [1, 5, 10, 100, 200, 300, 400, 500, 600, 700]\n",
    "quals_train = []\n",
    "quals_test = []\n",
    "for n in tqdm(n_trees):\n",
    "    clf = LGBMClassifier(n_estimators=n)\n",
    "    clf.fit(X_train, y_train)\n",
    "    precision, recall, thresholds = precision_recall_curve(y_train, clf.predict_proba(X_train)[:, 1])\n",
    "    q_train = auc(recall, precision)\n",
    "    precision, recall, thresholds = precision_recall_curve(y_test, clf.predict_proba(X_test)[:, 1])\n",
    "    q_test = auc(recall, precision)\n",
    "    quals_train.append(q_train)\n",
    "    quals_test.append(q_test)"
   ]
  },
  {
   "cell_type": "code",
   "execution_count": 20,
   "metadata": {},
   "outputs": [
    {
     "data": {
      "image/png": "[encoded data removed]",
      "text/plain": [
       "<Figure size 576x360 with 1 Axes>"
      ]
     },
     "metadata": {
      "needs_background": "light"
     },
     "output_type": "display_data"
    }
   ],
   "source": [
    "plt.figure(figsize=(8, 5))\n",
    "plt.plot(n_trees, quals_train, marker='.', label='train')\n",
    "plt.plot(n_trees, quals_test, marker='.', label='test')\n",
    "plt.xlabel('Number of trees')\n",
    "plt.ylabel('AUC-PR')\n",
    "plt.legend()\n",
    "\n",
    "plt.show()"
   ]
  },
  {
   "cell_type": "code",
   "execution_count": 21,
   "metadata": {},
   "outputs": [],
   "source": [
    "best_found_am_trees_lightgbm = n_trees[np.argmax(quals_test)]"
   ]
  },
  {
   "cell_type": "code",
   "execution_count": 24,
   "metadata": {},
   "outputs": [
    {
     "name": "stderr",
     "output_type": "stream",
     "text": [
      "\n",
      "\n",
      "  0%|          | 0/7 [00:00<?, ?it/s]\u001b[A\u001b[A\n",
      "\n",
      " 14%|█▍        | 1/7 [00:04<00:25,  4.22s/it]\u001b[A\u001b[A\n",
      "\n",
      " 29%|██▊       | 2/7 [00:10<00:23,  4.79s/it]\u001b[A\u001b[A\n",
      "\n",
      " 43%|████▎     | 3/7 [00:18<00:23,  5.75s/it]\u001b[A\u001b[A\n",
      "\n",
      " 57%|█████▋    | 4/7 [00:25<00:18,  6.32s/it]\u001b[A\u001b[A\n",
      "\n",
      " 71%|███████▏  | 5/7 [00:33<00:13,  6.55s/it]\u001b[A\u001b[A\n",
      "\n",
      " 86%|████████▌ | 6/7 [00:40<00:06,  6.73s/it]\u001b[A\u001b[A\n",
      "\n",
      "100%|██████████| 7/7 [00:47<00:00,  6.81s/it]\u001b[A\u001b[A\n"
     ]
    }
   ],
   "source": [
    "depth = list(range(1, 22, 3))\n",
    "n_trees = best_found_am_trees\n",
    "quals_train = []\n",
    "quals_test = []\n",
    "for d in tqdm(depth):\n",
    "    clf = LGBMClassifier(n_estimators=n_trees, max_depth=d, logging_level=\"Silent\")\n",
    "    clf.fit(X_train, y_train)\n",
    "    precision, recall, thresholds = precision_recall_curve(y_train, clf.predict_proba(X_train)[:, 1])\n",
    "    q_train = auc(recall, precision)\n",
    "    precision, recall, thresholds = precision_recall_curve(y_test, clf.predict_proba(X_test)[:, 1])\n",
    "    q_test = auc(recall, precision)\n",
    "    quals_train.append(q_train)\n",
    "    quals_test.append(q_test)"
   ]
  },
  {
   "cell_type": "code",
   "execution_count": 25,
   "metadata": {},
   "outputs": [
    {
     "data": {
      "image/png": "[encoded data removed]",
      "text/plain": [
       "<Figure size 576x360 with 1 Axes>"
      ]
     },
     "metadata": {
      "needs_background": "light"
     },
     "output_type": "display_data"
    }
   ],
   "source": [
    "plt.figure(figsize=(8, 5))\n",
    "plt.plot(depth, quals_train, marker='.', label='train')\n",
    "plt.plot(depth, quals_test, marker='.', label='test')\n",
    "plt.xlabel('Depth of trees')\n",
    "plt.ylabel('AUC-PR')\n",
    "plt.legend()\n",
    "\n",
    "plt.show()"
   ]
  },
  {
   "cell_type": "code",
   "execution_count": 26,
   "metadata": {},
   "outputs": [],
   "source": [
    "best_found_depth_lightgbm = depth[np.argmax(quals_test)]"
   ]
  },
  {
   "cell_type": "markdown",
   "metadata": {},
   "source": [
    "__Задание 4. (3.5 балла)__\n",
    "\n",
    "Добавьте категориальные признаки к вещественным следующими способами:\n",
    "\n",
    "* как OHE признаки;\n",
    "* как счетчики со сглаживанием.\n",
    "\n",
    "При подсчете счетчиков запрещается использование циклов. \n",
    "\n",
    "Как меняется время, необходимое для обучения моделей в зависимости от способа кодирования? Сравните полученные результаты с встроенными методами обработки категориальных признаков. "
   ]
  },
  {
   "cell_type": "code",
   "execution_count": 202,
   "metadata": {},
   "outputs": [],
   "source": [
    "from sklearn.preprocessing import OneHotEncoder\n",
    "from sklearn.compose import ColumnTransformer"
   ]
  },
  {
   "cell_type": "code",
   "execution_count": 203,
   "metadata": {},
   "outputs": [],
   "source": [
    "data = pd.read_csv('application_train.csv', index_col=0)\n",
    "y = data.TARGET.values\n",
    "# data = data.drop('TARGET', axis=1)\n",
    "categorical = data.columns[data.dtypes.values == 'object']"
   ]
  },
  {
   "cell_type": "markdown",
   "metadata": {},
   "source": [
    "## Counters"
   ]
  },
  {
   "cell_type": "code",
   "execution_count": 204,
   "metadata": {},
   "outputs": [],
   "source": [
    "def counters_with_smoothing(data, feature, target, constant):\n",
    "    global_mean = data[target].mean()\n",
    "    agg = data.groupby(feature)[target].agg(['mean', 'count'])\n",
    "    amount_of_this_value, mean_of_this_value = agg['count'], agg['mean']\n",
    "    counter_with_smoothing = (amount_of_this_value * mean_of_this_value + constant * global_mean)\n",
    "    counter_with_smoothing /= (amount_of_this_value + constant)\n",
    "    return data[feature].map(counter_with_smoothing)"
   ]
  },
  {
   "cell_type": "code",
   "execution_count": 205,
   "metadata": {},
   "outputs": [],
   "source": [
    "# for feature in categorical:\n",
    "#     data[feature] = data[feature].map(data.groupby(feature)['TARGET'].mean())"
   ]
  },
  {
   "cell_type": "code",
   "execution_count": 206,
   "metadata": {},
   "outputs": [],
   "source": [
    "for feature in categorical:\n",
    "    data[feature] = counters_with_smoothing(data=data, feature=feature, target='TARGET', constant=10)"
   ]
  },
  {
   "cell_type": "code",
   "execution_count": 207,
   "metadata": {},
   "outputs": [],
   "source": [
    "data = data.drop('TARGET', axis=1)"
   ]
  },
  {
   "cell_type": "code",
   "execution_count": 208,
   "metadata": {},
   "outputs": [
    {
     "data": {
      "text/html": [
       "<div>\n",
       "<style scoped>\n",
       "    .dataframe tbody tr th:only-of-type {\n",
       "        vertical-align: middle;\n",
       "    }\n",
       "\n",
       "    .dataframe tbody tr th {\n",
       "        vertical-align: top;\n",
       "    }\n",
       "\n",
       "    .dataframe thead th {\n",
       "        text-align: right;\n",
       "    }\n",
       "</style>\n",
       "<table border=\"1\" class=\"dataframe\">\n",
       "  <thead>\n",
       "    <tr style=\"text-align: right;\">\n",
       "      <th></th>\n",
       "      <th>NAME_CONTRACT_TYPE</th>\n",
       "      <th>CODE_GENDER</th>\n",
       "      <th>FLAG_OWN_CAR</th>\n",
       "      <th>FLAG_OWN_REALTY</th>\n",
       "      <th>CNT_CHILDREN</th>\n",
       "      <th>AMT_INCOME_TOTAL</th>\n",
       "      <th>AMT_CREDIT</th>\n",
       "      <th>AMT_ANNUITY</th>\n",
       "      <th>AMT_GOODS_PRICE</th>\n",
       "      <th>NAME_TYPE_SUITE</th>\n",
       "      <th>...</th>\n",
       "      <th>FLAG_DOCUMENT_18</th>\n",
       "      <th>FLAG_DOCUMENT_19</th>\n",
       "      <th>FLAG_DOCUMENT_20</th>\n",
       "      <th>FLAG_DOCUMENT_21</th>\n",
       "      <th>AMT_REQ_CREDIT_BUREAU_HOUR</th>\n",
       "      <th>AMT_REQ_CREDIT_BUREAU_DAY</th>\n",
       "      <th>AMT_REQ_CREDIT_BUREAU_WEEK</th>\n",
       "      <th>AMT_REQ_CREDIT_BUREAU_MON</th>\n",
       "      <th>AMT_REQ_CREDIT_BUREAU_QRT</th>\n",
       "      <th>AMT_REQ_CREDIT_BUREAU_YEAR</th>\n",
       "    </tr>\n",
       "    <tr>\n",
       "      <th>SK_ID_CURR</th>\n",
       "      <th></th>\n",
       "      <th></th>\n",
       "      <th></th>\n",
       "      <th></th>\n",
       "      <th></th>\n",
       "      <th></th>\n",
       "      <th></th>\n",
       "      <th></th>\n",
       "      <th></th>\n",
       "      <th></th>\n",
       "      <th></th>\n",
       "      <th></th>\n",
       "      <th></th>\n",
       "      <th></th>\n",
       "      <th></th>\n",
       "      <th></th>\n",
       "      <th></th>\n",
       "      <th></th>\n",
       "      <th></th>\n",
       "      <th></th>\n",
       "      <th></th>\n",
       "    </tr>\n",
       "  </thead>\n",
       "  <tbody>\n",
       "    <tr>\n",
       "      <td>247330</td>\n",
       "      <td>0.083693</td>\n",
       "      <td>0.070096</td>\n",
       "      <td>0.085396</td>\n",
       "      <td>0.083726</td>\n",
       "      <td>0</td>\n",
       "      <td>157500.0</td>\n",
       "      <td>706410.0</td>\n",
       "      <td>67072.5</td>\n",
       "      <td>679500.0</td>\n",
       "      <td>0.081886</td>\n",
       "      <td>...</td>\n",
       "      <td>0</td>\n",
       "      <td>0</td>\n",
       "      <td>0</td>\n",
       "      <td>0</td>\n",
       "      <td>0.0</td>\n",
       "      <td>0.0</td>\n",
       "      <td>0.0</td>\n",
       "      <td>0.0</td>\n",
       "      <td>0.0</td>\n",
       "      <td>1.0</td>\n",
       "    </tr>\n",
       "    <tr>\n",
       "      <td>425716</td>\n",
       "      <td>0.083693</td>\n",
       "      <td>0.070096</td>\n",
       "      <td>0.072184</td>\n",
       "      <td>0.079642</td>\n",
       "      <td>1</td>\n",
       "      <td>121500.0</td>\n",
       "      <td>545040.0</td>\n",
       "      <td>25407.0</td>\n",
       "      <td>450000.0</td>\n",
       "      <td>0.081886</td>\n",
       "      <td>...</td>\n",
       "      <td>0</td>\n",
       "      <td>0</td>\n",
       "      <td>0</td>\n",
       "      <td>0</td>\n",
       "      <td>0.0</td>\n",
       "      <td>0.0</td>\n",
       "      <td>0.0</td>\n",
       "      <td>0.0</td>\n",
       "      <td>0.0</td>\n",
       "      <td>0.0</td>\n",
       "    </tr>\n",
       "    <tr>\n",
       "      <td>331625</td>\n",
       "      <td>0.083693</td>\n",
       "      <td>0.101627</td>\n",
       "      <td>0.072184</td>\n",
       "      <td>0.079642</td>\n",
       "      <td>1</td>\n",
       "      <td>225000.0</td>\n",
       "      <td>942300.0</td>\n",
       "      <td>27679.5</td>\n",
       "      <td>675000.0</td>\n",
       "      <td>0.081886</td>\n",
       "      <td>...</td>\n",
       "      <td>0</td>\n",
       "      <td>0</td>\n",
       "      <td>0</td>\n",
       "      <td>0</td>\n",
       "      <td>0.0</td>\n",
       "      <td>0.0</td>\n",
       "      <td>0.0</td>\n",
       "      <td>0.0</td>\n",
       "      <td>0.0</td>\n",
       "      <td>1.0</td>\n",
       "    </tr>\n",
       "    <tr>\n",
       "      <td>455397</td>\n",
       "      <td>0.054398</td>\n",
       "      <td>0.070096</td>\n",
       "      <td>0.085396</td>\n",
       "      <td>0.079642</td>\n",
       "      <td>2</td>\n",
       "      <td>144000.0</td>\n",
       "      <td>180000.0</td>\n",
       "      <td>9000.0</td>\n",
       "      <td>180000.0</td>\n",
       "      <td>0.081886</td>\n",
       "      <td>...</td>\n",
       "      <td>0</td>\n",
       "      <td>0</td>\n",
       "      <td>0</td>\n",
       "      <td>0</td>\n",
       "      <td>0.0</td>\n",
       "      <td>0.0</td>\n",
       "      <td>0.0</td>\n",
       "      <td>0.0</td>\n",
       "      <td>1.0</td>\n",
       "      <td>2.0</td>\n",
       "    </tr>\n",
       "    <tr>\n",
       "      <td>449114</td>\n",
       "      <td>0.083693</td>\n",
       "      <td>0.070096</td>\n",
       "      <td>0.085396</td>\n",
       "      <td>0.079642</td>\n",
       "      <td>0</td>\n",
       "      <td>112500.0</td>\n",
       "      <td>729792.0</td>\n",
       "      <td>37390.5</td>\n",
       "      <td>630000.0</td>\n",
       "      <td>0.081886</td>\n",
       "      <td>...</td>\n",
       "      <td>0</td>\n",
       "      <td>0</td>\n",
       "      <td>0</td>\n",
       "      <td>0</td>\n",
       "      <td>0.0</td>\n",
       "      <td>0.0</td>\n",
       "      <td>0.0</td>\n",
       "      <td>0.0</td>\n",
       "      <td>1.0</td>\n",
       "      <td>0.0</td>\n",
       "    </tr>\n",
       "  </tbody>\n",
       "</table>\n",
       "<p>5 rows × 120 columns</p>\n",
       "</div>"
      ],
      "text/plain": [
       "            NAME_CONTRACT_TYPE  CODE_GENDER  FLAG_OWN_CAR  FLAG_OWN_REALTY  \\\n",
       "SK_ID_CURR                                                                   \n",
       "247330                0.083693     0.070096      0.085396         0.083726   \n",
       "425716                0.083693     0.070096      0.072184         0.079642   \n",
       "331625                0.083693     0.101627      0.072184         0.079642   \n",
       "455397                0.054398     0.070096      0.085396         0.079642   \n",
       "449114                0.083693     0.070096      0.085396         0.079642   \n",
       "\n",
       "            CNT_CHILDREN  AMT_INCOME_TOTAL  AMT_CREDIT  AMT_ANNUITY  \\\n",
       "SK_ID_CURR                                                            \n",
       "247330                 0          157500.0    706410.0      67072.5   \n",
       "425716                 1          121500.0    545040.0      25407.0   \n",
       "331625                 1          225000.0    942300.0      27679.5   \n",
       "455397                 2          144000.0    180000.0       9000.0   \n",
       "449114                 0          112500.0    729792.0      37390.5   \n",
       "\n",
       "            AMT_GOODS_PRICE  NAME_TYPE_SUITE  ...  FLAG_DOCUMENT_18  \\\n",
       "SK_ID_CURR                                    ...                     \n",
       "247330             679500.0         0.081886  ...                 0   \n",
       "425716             450000.0         0.081886  ...                 0   \n",
       "331625             675000.0         0.081886  ...                 0   \n",
       "455397             180000.0         0.081886  ...                 0   \n",
       "449114             630000.0         0.081886  ...                 0   \n",
       "\n",
       "            FLAG_DOCUMENT_19  FLAG_DOCUMENT_20  FLAG_DOCUMENT_21  \\\n",
       "SK_ID_CURR                                                         \n",
       "247330                     0                 0                 0   \n",
       "425716                     0                 0                 0   \n",
       "331625                     0                 0                 0   \n",
       "455397                     0                 0                 0   \n",
       "449114                     0                 0                 0   \n",
       "\n",
       "            AMT_REQ_CREDIT_BUREAU_HOUR  AMT_REQ_CREDIT_BUREAU_DAY  \\\n",
       "SK_ID_CURR                                                          \n",
       "247330                             0.0                        0.0   \n",
       "425716                             0.0                        0.0   \n",
       "331625                             0.0                        0.0   \n",
       "455397                             0.0                        0.0   \n",
       "449114                             0.0                        0.0   \n",
       "\n",
       "            AMT_REQ_CREDIT_BUREAU_WEEK  AMT_REQ_CREDIT_BUREAU_MON  \\\n",
       "SK_ID_CURR                                                          \n",
       "247330                             0.0                        0.0   \n",
       "425716                             0.0                        0.0   \n",
       "331625                             0.0                        0.0   \n",
       "455397                             0.0                        0.0   \n",
       "449114                             0.0                        0.0   \n",
       "\n",
       "            AMT_REQ_CREDIT_BUREAU_QRT  AMT_REQ_CREDIT_BUREAU_YEAR  \n",
       "SK_ID_CURR                                                         \n",
       "247330                            0.0                         1.0  \n",
       "425716                            0.0                         0.0  \n",
       "331625                            0.0                         1.0  \n",
       "455397                            1.0                         2.0  \n",
       "449114                            1.0                         0.0  \n",
       "\n",
       "[5 rows x 120 columns]"
      ]
     },
     "execution_count": 208,
     "metadata": {},
     "output_type": "execute_result"
    }
   ],
   "source": [
    "data.head()"
   ]
  },
  {
   "cell_type": "code",
   "execution_count": 209,
   "metadata": {},
   "outputs": [
    {
     "data": {
      "text/plain": [
       "0.08088935551457095"
      ]
     },
     "execution_count": 209,
     "metadata": {},
     "output_type": "execute_result"
    }
   ],
   "source": [
    "y.mean()"
   ]
  },
  {
   "cell_type": "code",
   "execution_count": 210,
   "metadata": {},
   "outputs": [],
   "source": [
    "X_train, X_test, y_train, y_test = train_test_split(data, y, test_size=0.7, random_state=0)"
   ]
  },
  {
   "cell_type": "code",
   "execution_count": 211,
   "metadata": {},
   "outputs": [
    {
     "name": "stdout",
     "output_type": "stream",
     "text": [
      "LightGBM with counters PR-AUC: 0.21374334679754414\n",
      "LightGBM with counters Time: 1.6622707843780518 seconds\n"
     ]
    }
   ],
   "source": [
    "start_time = time()\n",
    "clf = LGBMClassifier(n_estimators=best_found_am_trees_lightgbm, max_depth=best_found_depth_lightgbm, logging_level=\"Silent\").fit(X_train, y_train)\n",
    "precision, recall, thresholds = precision_recall_curve(y_test, clf.predict_proba(X_test)[:, 1])\n",
    "end_time = time()\n",
    "print(\"LightGBM with counters PR-AUC:\", auc(recall, precision))\n",
    "print(\"LightGBM with counters Time:\", end_time - start_time, \"seconds\")"
   ]
  },
  {
   "cell_type": "code",
   "execution_count": 212,
   "metadata": {},
   "outputs": [
    {
     "name": "stdout",
     "output_type": "stream",
     "text": [
      "Learning rate set to 0.101063\n",
      "0:\tlearn: 0.5977576\ttotal: 18.9ms\tremaining: 9.41s\n",
      "200:\tlearn: 0.2439802\ttotal: 3.42s\tremaining: 5.09s\n",
      "400:\tlearn: 0.2383106\ttotal: 7.35s\tremaining: 1.81s\n",
      "499:\tlearn: 0.2358699\ttotal: 9.15s\tremaining: 0us\n",
      "CatBoost with counters PR-AUC: 0.2339479819144274\n",
      "CatBoost with counters Time: 9.508089780807495 seconds\n"
     ]
    }
   ],
   "source": [
    "start_time = time()\n",
    "clf = CatBoostClassifier(n_estimators=best_found_am_trees, max_depth=best_found_depth, logging_level=\"Silent\").fit(X_train, y_train, verbose=200)\n",
    "precision, recall, thresholds = precision_recall_curve(y_test, clf.predict_proba(X_test)[:, 1])\n",
    "end_time = time()\n",
    "print(\"CatBoost with counters PR-AUC:\", auc(recall, precision))\n",
    "print(\"CatBoost with counters Time:\", end_time - start_time, \"seconds\")"
   ]
  },
  {
   "cell_type": "markdown",
   "metadata": {},
   "source": [
    "## Built-in methods"
   ]
  },
  {
   "cell_type": "code",
   "execution_count": 213,
   "metadata": {},
   "outputs": [],
   "source": [
    "data = pd.read_csv('application_train.csv', index_col=0)\n",
    "y = data.TARGET.values\n",
    "# data = data.drop('TARGET', axis=1)\n",
    "categorical = data.columns[data.dtypes.values == 'object']"
   ]
  },
  {
   "cell_type": "code",
   "execution_count": 214,
   "metadata": {},
   "outputs": [],
   "source": [
    "from sklearn import preprocessing\n",
    "labelEncoder = preprocessing.LabelEncoder()\n",
    "data[categorical] = data[categorical].fillna(\"\")\n",
    " \n",
    "for feature in categorical:\n",
    "    labelEncoder.fit(data[feature])\n",
    "    feature_classes = list(labelEncoder.classes_)\n",
    "    encoded_feature = labelEncoder.transform(data[feature])\n",
    "    data[feature] = pd.DataFrame(encoded_feature)"
   ]
  },
  {
   "cell_type": "code",
   "execution_count": 215,
   "metadata": {},
   "outputs": [],
   "source": [
    "# i, = np.where(data[].unique() == \"Cash loans\")\n",
    "# i\n",
    "# data[categorical[4]].unique()"
   ]
  },
  {
   "cell_type": "code",
   "execution_count": 216,
   "metadata": {},
   "outputs": [],
   "source": [
    "# feature = categorical[4]\n",
    "# a = data[feature].unique()\n",
    "# b = data[feature]\n",
    "\n",
    "# import numpy_indexed as npi\n",
    "# # all(i == npi.indices(a, b))\n",
    "# sum(npi.indices(a, b) == 5)"
   ]
  },
  {
   "cell_type": "code",
   "execution_count": 217,
   "metadata": {},
   "outputs": [],
   "source": [
    "# for feature in categorical:\n",
    "#     a = data[feature].unique()\n",
    "#     b = data[feature]\n",
    "#     data[feature] = npi.indices(a, b)"
   ]
  },
  {
   "cell_type": "code",
   "execution_count": 218,
   "metadata": {},
   "outputs": [],
   "source": [
    "data = data.drop('TARGET', axis=1)"
   ]
  },
  {
   "cell_type": "code",
   "execution_count": 219,
   "metadata": {},
   "outputs": [],
   "source": [
    "X_train, X_test, y_train, y_test = train_test_split(data, y, test_size=0.7, random_state=0)"
   ]
  },
  {
   "cell_type": "code",
   "execution_count": 220,
   "metadata": {},
   "outputs": [
    {
     "data": {
      "text/plain": [
       "array(['NAME_CONTRACT_TYPE', 'CODE_GENDER', 'FLAG_OWN_CAR',\n",
       "       'FLAG_OWN_REALTY', 'NAME_TYPE_SUITE', 'NAME_INCOME_TYPE',\n",
       "       'NAME_EDUCATION_TYPE', 'NAME_FAMILY_STATUS', 'NAME_HOUSING_TYPE',\n",
       "       'OCCUPATION_TYPE', 'WEEKDAY_APPR_PROCESS_START',\n",
       "       'ORGANIZATION_TYPE', 'FONDKAPREMONT_MODE', 'HOUSETYPE_MODE',\n",
       "       'WALLSMATERIAL_MODE', 'EMERGENCYSTATE_MODE'], dtype=object)"
      ]
     },
     "execution_count": 220,
     "metadata": {},
     "output_type": "execute_result"
    }
   ],
   "source": [
    "categorical.values"
   ]
  },
  {
   "cell_type": "code",
   "execution_count": 221,
   "metadata": {},
   "outputs": [
    {
     "name": "stdout",
     "output_type": "stream",
     "text": [
      "LightGBM with Built-in methods PR-AUC: 0.21026908936635275\n",
      "LightGBM with Built-in methods Time: 1.844447135925293 seconds\n"
     ]
    }
   ],
   "source": [
    "start_time = time()\n",
    "clf = LGBMClassifier(n_estimators=best_found_am_trees_lightgbm, max_depth=best_found_depth_lightgbm, logging_level=\"Silent\").fit(X_train, y_train, categorical_feature=list(categorical.values))\n",
    "precision, recall, thresholds = precision_recall_curve(y_test, clf.predict_proba(X_test)[:, 1])\n",
    "end_time = time()\n",
    "print(\"LightGBM with Built-in methods PR-AUC:\", auc(recall, precision))\n",
    "print(\"LightGBM with Built-in methods Time:\", end_time - start_time, \"seconds\")"
   ]
  },
  {
   "cell_type": "code",
   "execution_count": 222,
   "metadata": {},
   "outputs": [],
   "source": [
    "categorical_features_indices = np.where(data.dtypes == np.object)[0]"
   ]
  },
  {
   "cell_type": "code",
   "execution_count": 223,
   "metadata": {},
   "outputs": [
    {
     "name": "stdout",
     "output_type": "stream",
     "text": [
      "Learning rate set to 0.101063\n",
      "0:\tlearn: 0.5971838\ttotal: 21.9ms\tremaining: 10.9s\n",
      "200:\tlearn: 0.2461424\ttotal: 4.38s\tremaining: 6.51s\n",
      "400:\tlearn: 0.2402497\ttotal: 8.19s\tremaining: 2.02s\n",
      "499:\tlearn: 0.2378665\ttotal: 11s\tremaining: 0us\n",
      "CatBoost with Built-in methods PR-AUC: 0.22730052212036556\n",
      "CatBoost with Built-in methods Time: 11.399245977401733 seconds\n"
     ]
    }
   ],
   "source": [
    "start_time = time()\n",
    "clf = CatBoostClassifier(n_estimators=best_found_am_trees, max_depth=best_found_depth, logging_level=\"Silent\").fit(X_train, y_train, verbose=200)\n",
    "precision, recall, thresholds = precision_recall_curve(y_test, clf.predict_proba(X_test)[:, 1])\n",
    "end_time = time()\n",
    "print(\"CatBoost with Built-in methods PR-AUC:\", auc(recall, precision))\n",
    "print(\"CatBoost with Built-in methods Time:\", end_time - start_time, \"seconds\")"
   ]
  },
  {
   "cell_type": "markdown",
   "metadata": {},
   "source": [
    "## OHE"
   ]
  },
  {
   "cell_type": "code",
   "execution_count": 224,
   "metadata": {},
   "outputs": [],
   "source": [
    "data = pd.read_csv('application_train.csv', index_col=0)\n",
    "y = data.TARGET.values\n",
    "data = data.drop('TARGET', axis=1)\n",
    "\n",
    "categorical = data.columns[data.dtypes.values == 'object']\n",
    "data[categorical] = data[categorical].fillna(\"\")"
   ]
  },
  {
   "cell_type": "code",
   "execution_count": 225,
   "metadata": {},
   "outputs": [],
   "source": [
    "ohe_array = OneHotEncoder(handle_unknown=\"ignore\").fit_transform(data[categorical]).toarray()\n",
    "categorical_data = data[categorical].copy()\n",
    "ohe_data = data.drop(categorical, axis = 1).copy()\n",
    "ohe_data = np.hstack((ohe_data, ohe_array))"
   ]
  },
  {
   "cell_type": "code",
   "execution_count": 226,
   "metadata": {},
   "outputs": [],
   "source": [
    "X_train, X_test, y_train, y_test = train_test_split(ohe_data, y, test_size=0.7, random_state=0)"
   ]
  },
  {
   "cell_type": "code",
   "execution_count": 227,
   "metadata": {},
   "outputs": [
    {
     "name": "stdout",
     "output_type": "stream",
     "text": [
      "LightGBM with ohe methods PR-AUC: 0.21195133031665797\n",
      "LightGBM with ohe methods Time: 1.2996809482574463 seconds\n"
     ]
    }
   ],
   "source": [
    "start_time = time()\n",
    "clf = LGBMClassifier(n_estimators=best_found_am_trees_lightgbm, max_depth=best_found_depth_lightgbm, logging_level=\"Silent\").fit(X_train, y_train)\n",
    "precision, recall, thresholds = precision_recall_curve(y_test, clf.predict_proba(X_test)[:, 1])\n",
    "end_time = time()\n",
    "print(\"LightGBM with ohe methods PR-AUC:\", auc(recall, precision))\n",
    "print(\"LightGBM with ohe methods Time:\", end_time - start_time, \"seconds\")"
   ]
  },
  {
   "cell_type": "code",
   "execution_count": 228,
   "metadata": {},
   "outputs": [
    {
     "name": "stdout",
     "output_type": "stream",
     "text": [
      "Learning rate set to 0.42401\n",
      "0:\tlearn: 0.3882686\ttotal: 16.2ms\tremaining: 1.6s\n",
      "99:\tlearn: 0.2486014\ttotal: 1.5s\tremaining: 0us\n",
      "CatBoost with ohe methods PR-AUC: 0.22189972845927983\n",
      "CatBoost with ohe methods Time: 8.917090892791748 seconds\n"
     ]
    }
   ],
   "source": [
    "start_time = time()\n",
    "clf = CatBoostClassifier(n_estimators=best_found_am_trees_lightgbm, max_depth=best_found_depth_lightgbm, logging_level=\"Silent\").fit(X_train, y_train, verbose=200)\n",
    "precision, recall, thresholds = precision_recall_curve(y_test, clf.predict_proba(X_test)[:, 1])\n",
    "end_time = time()\n",
    "print(\"CatBoost with ohe methods PR-AUC:\", auc(recall, precision))\n",
    "print(\"CatBoost with ohe methods Time:\", end_time - start_time, \"seconds\")"
   ]
  },
  {
   "cell_type": "markdown",
   "metadata": {},
   "source": [
    "__Задание 5. (1 балл)__\n",
    "\n",
    "Реализуйте блендинг подобранных в предыдущем задании моделей и сравните качество. Обратите внимание на данные, на которых обучаются "
   ]
  },
  {
   "cell_type": "code",
   "execution_count": null,
   "metadata": {},
   "outputs": [],
   "source": [
    "### ╰( ͡° ͜ʖ ͡° )つ──☆*:・ﾟ"
   ]
  },
  {
   "cell_type": "markdown",
   "metadata": {},
   "source": [
    "__Задание 6. (1.5 балла)__\n",
    "\n",
    "В задании 3 вы подобрали гиперпараметры для LightGBM и CatBoost на вещественных признаках. Визуализируйте важности признаков, посчитанные этими алгоритмами, в виде горизонтального bar-plot (отсортируйте признаки по убыванию важности, подпишите названия признаков по оси y).\n",
    "\n",
    "Для каждого из двух алгоритмов удалите неважные признаки (обычно по bar-plot хорошо видно порог, с которого начинается \"хвост\" менее важных признаков) и обучите модель с теми же параметрами на получившихся данных. Сильно ли упало качество при удалении признаков?"
   ]
  },
  {
   "cell_type": "code",
   "execution_count": null,
   "metadata": {},
   "outputs": [],
   "source": [
    "### ╰( ͡° ͜ʖ ͡° )つ──☆*:・ﾟ"
   ]
  },
  {
   "cell_type": "markdown",
   "metadata": {},
   "source": [
    "### Бонус\n",
    "\n",
    "__Задание 7. (Максимум 5 баллов)__\n",
    "\n",
    "Градиентный бустинг при всех ограничениях зачастую является ультимативным решением для задач с табличными данными; соревнование от Home Credit не стало исключением. Предлагается любыми модификациями Catboost и LightGBM (другими моделями пользоваться нельзя), обработки данных и построения признаков получить высокое качество на __приватном__ наборе данных. \n",
    "Баллы можно получить за следующие значения метрики в inclass-соревновании на Kaggle:\n",
    "* 0.7955 - 1 балл\n",
    "* 0.7975 - 3 баллов\n",
    "* 0.80 - 5 баллов.\n",
    "\n",
    "При сдаче этого задания необходимо приложить код, с помощью которого можно получить ту же самую метрику, что и в вашем посылке в соревновании. Если решение не будет воспроизводимым, задание засчитано не будет.\n",
    "\n",
    "Учетная запись на kaggle: ╰( ͡° ͜ʖ ͡° )つ──☆*:・ﾟ"
   ]
  },
  {
   "cell_type": "code",
   "execution_count": null,
   "metadata": {},
   "outputs": [],
   "source": [
    "### ╰( ͡° ͜ʖ ͡° )つ──☆*:・ﾟ"
   ]
  },
  {
   "cell_type": "markdown",
   "metadata": {},
   "source": [
    "__Задание 8. (0.5 балла)__ Обратите внимание, что в соревновании метрикой выступает AUC-ROC, у нас же до этого оптимизировался AUC-PR. Можно ли утверждать, что нет необходимости в переобучении моделей для максимизации новой метрики, если мы нашли лучший алгоритм с точки зрения AUC-PR?"
   ]
  },
  {
   "cell_type": "code",
   "execution_count": null,
   "metadata": {},
   "outputs": [],
   "source": [
    "### ╰( ͡° ͜ʖ ͡° )つ──☆*:・ﾟ"
   ]
  }
 ],
 "metadata": {
  "kernelspec": {
   "display_name": "Python 3",
   "language": "python",
   "name": "python3"
  },
  "language_info": {
   "codemirror_mode": {
    "name": "ipython",
    "version": 3
   },
   "file_extension": ".py",
   "mimetype": "text/x-python",
   "name": "python",
   "nbconvert_exporter": "python",
   "pygments_lexer": "ipython3",
   "version": "3.6.8"
  }
 },
 "nbformat": 4,
 "nbformat_minor": 2
}
